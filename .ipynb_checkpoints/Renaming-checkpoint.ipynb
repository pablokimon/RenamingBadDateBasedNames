{
 "cells": [
  {
   "cell_type": "markdown",
   "metadata": {},
   "source": [
    "source of renaming loop:\n",
    "    https://www.guru99.com/python-rename-file.html"
   ]
  },
  {
   "cell_type": "code",
   "execution_count": null,
   "metadata": {},
   "outputs": [],
   "source": [
    "import os\n",
    "from os import path\n",
    "import calendar\n",
    "import re\n",
    "import datetime as dt"
   ]
  },
  {
   "cell_type": "code",
   "execution_count": null,
   "metadata": {},
   "outputs": [],
   "source": [
    "#make dictionary of months, first three letters and number\n",
    "months_dict=dict((v.lower(),str(k).zfill(2)) for k,v in enumerate(calendar.month_abbr))\n",
    "months_dict.pop('')"
   ]
  },
  {
   "cell_type": "code",
   "execution_count": null,
   "metadata": {},
   "outputs": [],
   "source": [
    "months_dict"
   ]
  },
  {
   "cell_type": "code",
   "execution_count": null,
   "metadata": {},
   "outputs": [],
   "source": [
    "#make a dict of week days, first three letters and full word\n",
    "keys = [day.lower() for day in list(calendar.day_abbr)]\n",
    "values = list(calendar.day_name)\n",
    "weekdays_dict = dict(zip(keys, values))"
   ]
  },
  {
   "cell_type": "code",
   "execution_count": null,
   "metadata": {},
   "outputs": [],
   "source": [
    "weekdays_dict"
   ]
  },
  {
   "cell_type": "code",
   "execution_count": null,
   "metadata": {},
   "outputs": [],
   "source": [
    "#make a dict of weekdays, numbering according to datetime object and first three letters\n",
    "keys= list(range(0,8))\n",
    "values = [day.lower() for day in list(calendar.day_abbr)]\n",
    "weekdaysnumbered_dict = dict(zip(keys, values))"
   ]
  },
  {
   "cell_type": "code",
   "execution_count": null,
   "metadata": {},
   "outputs": [],
   "source": [
    "weekdaysnumbered_dict"
   ]
  },
  {
   "cell_type": "code",
   "execution_count": null,
   "metadata": {},
   "outputs": [],
   "source": [
    "#make lists of years, all possible days in a month and months\n",
    "years = ['2014','2015','2016','2017','2018','2019']\n",
    "days = [str(r).zfill(2) for r in range(1,32)]\n",
    "months = ['april',\n",
    " 'august',\n",
    " 'december',\n",
    " 'february',\n",
    " 'january',\n",
    " 'july',\n",
    " 'june',\n",
    " 'march',\n",
    " 'may',\n",
    " 'november',\n",
    " 'october',\n",
    " 'september'] \n"
   ]
  },
  {
   "cell_type": "code",
   "execution_count": null,
   "metadata": {},
   "outputs": [],
   "source": [
    "days"
   ]
  },
  {
   "cell_type": "code",
   "execution_count": null,
   "metadata": {},
   "outputs": [],
   "source": [
    "def fixdirectory(dir):\n",
    "    for oldname in next(os.walk(dir))[1]:\n",
    "        new_dir_name = ''\n",
    "        #print (type(directories))\n",
    "        directory = re.sub(\",\", \" \",oldname)\n",
    "        match = re.search(r'(\\d+-\\d+-\\d+)',directory)\n",
    "        if match:\n",
    "            print (match.group(1))\n",
    "            new_dir_name=addweekday(match.group(1),directory)\n",
    "        else:\n",
    "            print(directory)\n",
    "            new_dir_name=fixfolder(oldname,directory)\n",
    "        os.rename(dir+os.sep+oldname,dir+os.sep+new_dir_name)\n",
    "        #print (\"file renamed\")"
   ]
  },
  {
   "cell_type": "code",
   "execution_count": null,
   "metadata": {},
   "outputs": [],
   "source": [
    "def fixfolder(oldname,directory):\n",
    "    directory = directory.split()\n",
    "    year,month,day,weekday=[\"\"]*4\n",
    "    for part in directory:\n",
    "        piece=part.lower()\n",
    "        if piece in years:\n",
    "            year=piece\n",
    "        if piece[:3] in months_dict.keys():\n",
    "            month=(months_dict[piece[:3]])\n",
    "        if piece.zfill(2) in days:\n",
    "            day=piece.zfill(2)\n",
    "    if year == \"\" or month == \"\" or day == \"\":\n",
    "        new_dir_name = manualrename(oldname,directory)\n",
    "    else:\n",
    "        try:\n",
    "            weekday = dt.datetime.strptime(month+ \" \" + day + \" \" + year,\"%m %d %Y\").strftime(\"%A\")[:3]\n",
    "            new_dir_name=year+'-'+month+'-'+day+'-'+ weekday\n",
    "        except ValueError:\n",
    "            new_dir_name = manualrename(oldname,directory)\n",
    "    print (\"old name:\",oldname,\"new name:\",new_dir_name)\n",
    "    return new_dir_name"
   ]
  },
  {
   "cell_type": "code",
   "execution_count": null,
   "metadata": {},
   "outputs": [],
   "source": [
    "def manualrename(oldname,directory):\n",
    "    new_dir_name = input(\"Please manually enter the new name for %s\"%oldname)\n",
    "    if new_dir_name ==\"\": \n",
    "        new_dir_name = oldname\n",
    "    else:\n",
    "        new_dir_name=addweekday(new_dir_name,directory)\n",
    "    return new_dir_name"
   ]
  },
  {
   "cell_type": "code",
   "execution_count": null,
   "metadata": {},
   "outputs": [],
   "source": [
    "def addweekday(oldname,directory):\n",
    "    year,month,day=oldname.split('-',3)\n",
    "    try:\n",
    "        weekday=weekdaysnumbered_dict[dt.datetime(int(year),int(month),int(day)).weekday()].capitalize()\n",
    "        new_dir_name=year+'-'+month+'-'+day+'-'+ weekday\n",
    "        return new_dir_name\n",
    "    except ValueError:\n",
    "        print ('day is out of range for month')\n",
    "        new_dir_name = manualrename(oldname,directory)"
   ]
  },
  {
   "cell_type": "code",
   "execution_count": null,
   "metadata": {},
   "outputs": [],
   "source": [
    "fixdirectory('2015')"
   ]
  },
  {
   "cell_type": "code",
   "execution_count": null,
   "metadata": {},
   "outputs": [],
   "source": [
    "ls\n"
   ]
  },
  {
   "cell_type": "code",
   "execution_count": null,
   "metadata": {
    "scrolled": true
   },
   "outputs": [],
   "source": [
    "ls 2015"
   ]
  },
  {
   "cell_type": "code",
   "execution_count": null,
   "metadata": {},
   "outputs": [],
   "source": []
  }
 ],
 "metadata": {
  "kernelspec": {
   "display_name": "Python 3",
   "language": "python",
   "name": "python3"
  },
  "language_info": {
   "codemirror_mode": {
    "name": "ipython",
    "version": 3
   },
   "file_extension": ".py",
   "mimetype": "text/x-python",
   "name": "python",
   "nbconvert_exporter": "python",
   "pygments_lexer": "ipython3",
   "version": "3.6.8"
  }
 },
 "nbformat": 4,
 "nbformat_minor": 4
}
