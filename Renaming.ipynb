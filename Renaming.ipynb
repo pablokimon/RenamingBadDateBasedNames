{
 "cells": [
  {
   "cell_type": "markdown",
   "metadata": {},
   "source": [
    "source of renaming loop:\n",
    "    https://www.guru99.com/python-rename-file.html"
   ]
  },
  {
   "cell_type": "code",
   "execution_count": 1,
   "metadata": {},
   "outputs": [],
   "source": [
    "import os\n",
    "from os import path\n",
    "import calendar\n",
    "import re\n",
    "import datetime as dt"
   ]
  },
  {
   "cell_type": "code",
   "execution_count": 2,
   "metadata": {},
   "outputs": [
    {
     "name": "stdout",
     "output_type": "stream",
     "text": [
      "[WinError 2] The system cannot find the file specified: '2018'\n",
      "C:\\Users\\pknowles\\dev\\purchaseRecordRenameProject\n"
     ]
    }
   ],
   "source": [
    "cd 2018"
   ]
  },
  {
   "cell_type": "code",
   "execution_count": 3,
   "metadata": {},
   "outputs": [
    {
     "data": {
      "text/plain": [
       "'C:\\\\Users\\\\pknowles\\\\dev\\\\purchaseRecordRenameProject'"
      ]
     },
     "execution_count": 3,
     "metadata": {},
     "output_type": "execute_result"
    }
   ],
   "source": [
    "pwd"
   ]
  },
  {
   "cell_type": "code",
   "execution_count": 4,
   "metadata": {},
   "outputs": [],
   "source": [
    "months_dict=dict((v.lower(),str(k).zfill(2)) for k,v in enumerate(calendar.month_abbr))"
   ]
  },
  {
   "cell_type": "code",
   "execution_count": 5,
   "metadata": {},
   "outputs": [
    {
     "data": {
      "text/plain": [
       "{'': '00',\n",
       " 'jan': '01',\n",
       " 'feb': '02',\n",
       " 'mar': '03',\n",
       " 'apr': '04',\n",
       " 'may': '05',\n",
       " 'jun': '06',\n",
       " 'jul': '07',\n",
       " 'aug': '08',\n",
       " 'sep': '09',\n",
       " 'oct': '10',\n",
       " 'nov': '11',\n",
       " 'dec': '12'}"
      ]
     },
     "execution_count": 5,
     "metadata": {},
     "output_type": "execute_result"
    }
   ],
   "source": [
    "months_dict"
   ]
  },
  {
   "cell_type": "code",
   "execution_count": 6,
   "metadata": {},
   "outputs": [
    {
     "data": {
      "text/plain": [
       "{'mon': 'Monday',\n",
       " 'tue': 'Tuesday',\n",
       " 'wed': 'Wednesday',\n",
       " 'thu': 'Thursday',\n",
       " 'fri': 'Friday',\n",
       " 'sat': 'Saturday',\n",
       " 'sun': 'Sunday'}"
      ]
     },
     "execution_count": 6,
     "metadata": {},
     "output_type": "execute_result"
    }
   ],
   "source": [
    "keys = [day.lower() for day in list(calendar.day_abbr)]\n",
    "values = list(calendar.day_name)\n",
    "weekdays_dict = dict(zip(keys, values))\n",
    "weekdays_dict"
   ]
  },
  {
   "cell_type": "code",
   "execution_count": 12,
   "metadata": {},
   "outputs": [
    {
     "data": {
      "text/plain": [
       "{0: 'mon', 1: 'tue', 2: 'wed', 3: 'thu', 4: 'fri', 5: 'sat', 6: 'sun'}"
      ]
     },
     "execution_count": 12,
     "metadata": {},
     "output_type": "execute_result"
    }
   ],
   "source": [
    "keys= list(range(0,8))\n",
    "values = [day.lower() for day in list(calendar.day_abbr)]\n",
    "weekdaysnumbered_dict = dict(zip(keys, values))\n",
    "weekdaysnumbered_dict"
   ]
  },
  {
   "cell_type": "code",
   "execution_count": 7,
   "metadata": {},
   "outputs": [],
   "source": [
    "years = ['2014','2015','2016','2017','2018','2019']\n",
    "days = [str(r).zfill(2) for r in range(1,32)]\n",
    "months = ['april',\n",
    " 'august',\n",
    " 'december',\n",
    " 'february',\n",
    " 'january',\n",
    " 'july',\n",
    " 'june',\n",
    " 'march',\n",
    " 'may',\n",
    " 'november',\n",
    " 'october',\n",
    " 'september'] \n"
   ]
  },
  {
   "cell_type": "code",
   "execution_count": 17,
   "metadata": {},
   "outputs": [
    {
     "data": {
      "text/plain": [
       "['01',\n",
       " '02',\n",
       " '03',\n",
       " '04',\n",
       " '05',\n",
       " '06',\n",
       " '07',\n",
       " '08',\n",
       " '09',\n",
       " '10',\n",
       " '11',\n",
       " '12',\n",
       " '13',\n",
       " '14',\n",
       " '15',\n",
       " '16',\n",
       " '17',\n",
       " '18',\n",
       " '19',\n",
       " '20',\n",
       " '21',\n",
       " '22',\n",
       " '23',\n",
       " '24',\n",
       " '25',\n",
       " '26',\n",
       " '27',\n",
       " '28',\n",
       " '29',\n",
       " '30',\n",
       " '31']"
      ]
     },
     "execution_count": 17,
     "metadata": {},
     "output_type": "execute_result"
    }
   ],
   "source": [
    "days"
   ]
  },
  {
   "cell_type": "code",
   "execution_count": 39,
   "metadata": {},
   "outputs": [
    {
     "name": "stdout",
     "output_type": "stream",
     "text": [
      "boo\n"
     ]
    }
   ],
   "source": [
    "match = re.search(r'(\\d+-\\d+-\\d+-[A-Za-z]{3})','The date is 2018-05-21-')\n",
    "if match:\n",
    "    print (\"ya\")\n",
    "else:\n",
    "    print(\"boo\")"
   ]
  },
  {
   "cell_type": "code",
   "execution_count": null,
   "metadata": {},
   "outputs": [],
   "source": [
    "for directories in next(os.walk('.'))[1]:\n",
    "    new_dir_name = ''\n",
    "    #print (type(directories))\n",
    "    directory = re.sub(\",\", \" \",directories)\n",
    "    match = re.search(r'(\\d+-\\d+-\\d+-[A-Za-z]{3})',directory)\n",
    "    if match:\n",
    "        continue\n",
    "    else:\n",
    "        directory = directory.split()\n",
    "\n",
    "        #print (directory)\n",
    "        year,month,day,weekday=[\"\"]*4\n",
    "        for part in directory:\n",
    "            piece=part.lower()\n",
    "            if piece in years:\n",
    "                year=piece\n",
    "            if piece[:3] in months_dict.keys():\n",
    "                month=(months_dict[piece[:3]])\n",
    "            if piece.zfill(2) in days:\n",
    "                day=piece.zfill(2)\n",
    "            '''if piece[:3] in weekdays_dict.keys():\n",
    "                weekday=(weekdays_dict[piece[:3]])'''\n",
    "            weekday=weekdaysnumbered_dict[dt.datetime(year,int(month),int(day)).weekday()].capitalize()\n",
    "        if year == \"\" or month == \"\" or day == \"\":\n",
    "            print (directory)\n",
    "            new_dir_name = input(\"Please manually enter the new name for %s\"%directories)\n",
    "            if new_dir_name ==\"\": new_dir_name = directories\n",
    "        elif weekday == \"\":\n",
    "            weekday = dt.datetime.strptime(month+ \" \" + day + \" \" + year,\"%m %d %Y\").strftime(\"%A\")\n",
    "            new_dir_name=month+'-'+day+'-'+year+'.'+ weekday\n",
    "        else:    \n",
    "            new_dir_name=month+'.'+day+'.'+year+'.'+ weekday\n",
    "    print (\"old name:\",directories,\"new name:\",new_dir_name)\n",
    "    os.rename(directories,new_dir_name)"
   ]
  },
  {
   "cell_type": "code",
   "execution_count": 15,
   "metadata": {},
   "outputs": [
    {
     "data": {
      "text/plain": [
       "'Sun'"
      ]
     },
     "execution_count": 15,
     "metadata": {},
     "output_type": "execute_result"
    }
   ],
   "source": [
    "weekdaysnumbered_dict[dt.datetime(2019,12,1).weekday()].capitalize()\n"
   ]
  },
  {
   "cell_type": "code",
   "execution_count": 53,
   "metadata": {},
   "outputs": [
    {
     "data": {
      "text/plain": [
       "{'1',\n",
       " '13',\n",
       " '15',\n",
       " '31',\n",
       " 'april',\n",
       " 'august',\n",
       " 'december',\n",
       " 'decenber',\n",
       " 'february',\n",
       " 'febuary',\n",
       " 'january',\n",
       " 'july',\n",
       " 'june',\n",
       " 'march',\n",
       " 'may',\n",
       " 'november',\n",
       " 'october',\n",
       " 'september'}"
      ]
     },
     "execution_count": 53,
     "metadata": {},
     "output_type": "execute_result"
    }
   ],
   "source": [
    "months = []\n",
    "years = []\n",
    "days =[]\n",
    "for directories in next(os.walk('.'))[1]:\n",
    "\n",
    "    directory = re.sub(\",\", \" \",directories)\n",
    "    directory = directory.split()\n",
    "    #print (directory[1])\n",
    "    months.append(directory[1].lower())\n",
    "months=set(months)\n",
    "months"
   ]
  },
  {
   "cell_type": "code",
   "execution_count": 44,
   "metadata": {},
   "outputs": [
    {
     "data": {
      "text/plain": [
       "['september']"
      ]
     },
     "execution_count": 44,
     "metadata": {},
     "output_type": "execute_result"
    }
   ],
   "source": [
    "months"
   ]
  },
  {
   "cell_type": "code",
   "execution_count": 34,
   "metadata": {},
   "outputs": [
    {
     "data": {
      "text/plain": [
       "'2.4       -2.0           4.3'"
      ]
     },
     "execution_count": 34,
     "metadata": {},
     "output_type": "execute_result"
    }
   ],
   "source": [
    "s = \" 2.4  ,     -2.0     ,      4.3\"\n",
    "re.sub(\",\", \"\", s.strip())"
   ]
  },
  {
   "cell_type": "code",
   "execution_count": 94,
   "metadata": {},
   "outputs": [
    {
     "name": "stdout",
     "output_type": "stream",
     "text": [
      "12\n",
      "04\n",
      "04\n",
      "04\n",
      "08\n",
      "08\n",
      "08\n",
      "08\n",
      "08\n",
      "12\n",
      "12\n",
      "12\n",
      "12\n",
      "02\n",
      "02\n",
      "02\n",
      "01\n",
      "01\n",
      "01\n",
      "07\n",
      "07\n",
      "07\n",
      "07\n",
      "06\n",
      "06\n",
      "06\n",
      "06\n",
      "06\n",
      "03\n",
      "03\n",
      "03\n",
      "03\n",
      "03\n",
      "05\n",
      "05\n",
      "05\n",
      "05\n",
      "11\n",
      "11\n",
      "11\n",
      "11\n",
      "11\n",
      "10\n",
      "10\n",
      "10\n",
      "09\n",
      "09\n",
      "09\n",
      "09\n",
      "09\n",
      "01\n",
      "04\n",
      "04\n",
      "04\n",
      "04\n",
      "04\n",
      "08\n",
      "08\n",
      "08\n",
      "08\n",
      "08\n",
      "12\n",
      "12\n",
      "12\n",
      "12\n",
      "12\n",
      "02\n",
      "02\n",
      "02\n",
      "02\n",
      "01\n",
      "01\n",
      "01\n",
      "07\n",
      "07\n",
      "07\n",
      "07\n",
      "07\n",
      "06\n",
      "06\n",
      "06\n",
      "06\n",
      "03\n",
      "03\n",
      "03\n",
      "03\n",
      "05\n",
      "05\n",
      "05\n",
      "05\n",
      "11\n",
      "11\n",
      "11\n",
      "11\n",
      "10\n",
      "10\n",
      "10\n",
      "10\n",
      "10\n",
      "09\n",
      "09\n",
      "09\n",
      "11\n",
      "10\n",
      "08\n",
      "09\n",
      "04\n",
      "04\n",
      "04\n",
      "08\n",
      "08\n",
      "08\n",
      "12\n",
      "12\n",
      "12\n",
      "12\n",
      "02\n",
      "02\n",
      "02\n",
      "02\n",
      "01\n",
      "01\n",
      "01\n",
      "01\n",
      "07\n",
      "07\n",
      "07\n",
      "07\n",
      "06\n",
      "06\n",
      "06\n",
      "06\n",
      "06\n",
      "03\n",
      "03\n",
      "03\n",
      "03\n",
      "03\n",
      "05\n",
      "05\n",
      "05\n",
      "05\n",
      "11\n",
      "11\n",
      "11\n",
      "10\n",
      "10\n",
      "10\n",
      "09\n",
      "09\n",
      "09\n",
      "09\n",
      "04\n",
      "04\n",
      "04\n",
      "04\n",
      "04\n",
      "08\n",
      "08\n",
      "08\n",
      "08\n",
      "12\n",
      "12\n",
      "12\n",
      "12\n",
      "02\n",
      "02\n",
      "02\n",
      "02\n",
      "01\n",
      "01\n",
      "01\n",
      "01\n",
      "07\n",
      "07\n",
      "07\n",
      "07\n",
      "07\n",
      "06\n",
      "06\n",
      "06\n",
      "03\n",
      "03\n",
      "03\n",
      "03\n",
      "05\n",
      "05\n",
      "05\n",
      "05\n",
      "11\n",
      "11\n",
      "11\n",
      "11\n",
      "10\n",
      "10\n",
      "10\n",
      "10\n",
      "09\n",
      "09\n",
      "09\n",
      "09\n",
      "09\n",
      "04\n",
      "04\n",
      "04\n",
      "08\n",
      "08\n",
      "08\n",
      "08\n",
      "08\n",
      "12\n",
      "12\n",
      "12\n",
      "12\n",
      "02\n",
      "02\n",
      "02\n",
      "02\n",
      "01\n",
      "01\n",
      "01\n",
      "01\n",
      "07\n",
      "07\n",
      "07\n",
      "07\n",
      "06\n",
      "06\n",
      "06\n",
      "06\n",
      "03\n",
      "03\n",
      "03\n",
      "03\n",
      "03\n",
      "05\n",
      "05\n",
      "05\n",
      "05\n",
      "05\n",
      "11\n",
      "11\n",
      "11\n",
      "10\n",
      "10\n",
      "10\n",
      "09\n",
      "09\n",
      "09\n",
      "09\n",
      "09\n",
      "08\n",
      "04\n",
      "04\n",
      "04\n",
      "04\n",
      "08\n",
      "08\n",
      "08\n",
      "12\n",
      "12\n",
      "12\n",
      "02\n",
      "02\n",
      "02\n",
      "02\n",
      "01\n",
      "01\n",
      "01\n",
      "01\n",
      "01\n",
      "07\n",
      "07\n",
      "07\n",
      "07\n",
      "07\n",
      "06\n",
      "06\n",
      "06\n",
      "06\n",
      "03\n",
      "03\n",
      "03\n",
      "03\n",
      "05\n",
      "05\n",
      "05\n",
      "05\n",
      "05\n",
      "11\n",
      "11\n",
      "11\n",
      "10\n",
      "10\n",
      "10\n",
      "10\n",
      "10\n",
      "09\n",
      "09\n",
      "09\n",
      "09\n",
      "04\n",
      "04\n",
      "04\n",
      "08\n",
      "08\n",
      "08\n",
      "12\n",
      "12\n",
      "12\n",
      "12\n",
      "02\n",
      "02\n",
      "02\n",
      "02\n",
      "01\n",
      "01\n",
      "01\n",
      "01\n",
      "07\n",
      "07\n",
      "07\n",
      "07\n",
      "06\n",
      "06\n",
      "06\n",
      "03\n",
      "03\n",
      "03\n",
      "03\n",
      "05\n",
      "05\n",
      "05\n",
      "05\n",
      "05\n",
      "11\n",
      "11\n",
      "11\n",
      "11\n",
      "10\n",
      "10\n",
      "10\n",
      "10\n",
      "10\n",
      "09\n",
      "09\n",
      "09\n",
      "09\n"
     ]
    }
   ],
   "source": [
    "for directories in next(os.walk('.'))[1]:\n",
    "    new_dir_name = ''\n",
    "    #print (type(directories))\n",
    "    directory = re.sub(\",\", \" \",directories)\n",
    "    directory = directory.split()\n",
    "    #print (directory)\n",
    "    year,month,day,weekday=[\"\"]*4\n",
    "    for part in directory:\n",
    "        if part[:3] in month_dict.keys():\n",
    "            \n",
    "            print(month_dict[part[:3]])\n",
    "        "
   ]
  },
  {
   "cell_type": "code",
   "execution_count": 1,
   "metadata": {},
   "outputs": [
    {
     "ename": "SyntaxError",
     "evalue": "invalid syntax (<ipython-input-1-e82753e81f14>, line 1)",
     "output_type": "error",
     "traceback": [
      "\u001b[1;36m  File \u001b[1;32m\"<ipython-input-1-e82753e81f14>\"\u001b[1;36m, line \u001b[1;32m1\u001b[0m\n\u001b[1;33m    20181013.weekday()\u001b[0m\n\u001b[1;37m                   ^\u001b[0m\n\u001b[1;31mSyntaxError\u001b[0m\u001b[1;31m:\u001b[0m invalid syntax\n"
     ]
    }
   ],
   "source": [
    "(20181013).weekday()"
   ]
  },
  {
   "cell_type": "code",
   "execution_count": 2,
   "metadata": {},
   "outputs": [],
   "source": [
    "from datetime import date"
   ]
  },
  {
   "cell_type": "code",
   "execution_count": 6,
   "metadata": {},
   "outputs": [
    {
     "ename": "TypeError",
     "evalue": "descriptor 'weekday' requires a 'datetime.date' object but received a 'str'",
     "output_type": "error",
     "traceback": [
      "\u001b[1;31m---------------------------------------------------------------------------\u001b[0m",
      "\u001b[1;31mTypeError\u001b[0m                                 Traceback (most recent call last)",
      "\u001b[1;32m<ipython-input-6-54b6256a282c>\u001b[0m in \u001b[0;36m<module>\u001b[1;34m\u001b[0m\n\u001b[1;32m----> 1\u001b[1;33m \u001b[0mdate\u001b[0m\u001b[1;33m.\u001b[0m\u001b[0mweekday\u001b[0m\u001b[1;33m(\u001b[0m\u001b[1;34m\"10/13/2018\"\u001b[0m\u001b[1;33m)\u001b[0m\u001b[1;33m\u001b[0m\u001b[1;33m\u001b[0m\u001b[0m\n\u001b[0m",
      "\u001b[1;31mTypeError\u001b[0m: descriptor 'weekday' requires a 'datetime.date' object but received a 'str'"
     ]
    }
   ],
   "source": [
    "date.weekday(\"10/13/2018\")"
   ]
  },
  {
   "cell_type": "code",
   "execution_count": 11,
   "metadata": {},
   "outputs": [
    {
     "ename": "SyntaxError",
     "evalue": "invalid syntax (<ipython-input-11-12e189ad009c>, line 1)",
     "output_type": "error",
     "traceback": [
      "\u001b[1;36m  File \u001b[1;32m\"<ipython-input-11-12e189ad009c>\"\u001b[1;36m, line \u001b[1;32m1\u001b[0m\n\u001b[1;33m    d = datetime.(\"10/13/2018\")\u001b[0m\n\u001b[1;37m                 ^\u001b[0m\n\u001b[1;31mSyntaxError\u001b[0m\u001b[1;31m:\u001b[0m invalid syntax\n"
     ]
    }
   ],
   "source": [
    "d = datetime.(\"10/13/2018\")"
   ]
  },
  {
   "cell_type": "code",
   "execution_count": 29,
   "metadata": {},
   "outputs": [
    {
     "data": {
      "text/plain": [
       "'Saturday'"
      ]
     },
     "execution_count": 29,
     "metadata": {},
     "output_type": "execute_result"
    }
   ],
   "source": [
    "dt.datetime.strptime(\"october 13 2018\",\"%B %d %Y\").strftime(\"%A\")\n"
   ]
  },
  {
   "cell_type": "code",
   "execution_count": null,
   "metadata": {},
   "outputs": [],
   "source": []
  }
 ],
 "metadata": {
  "kernelspec": {
   "display_name": "Python 3",
   "language": "python",
   "name": "python3"
  },
  "language_info": {
   "codemirror_mode": {
    "name": "ipython",
    "version": 3
   },
   "file_extension": ".py",
   "mimetype": "text/x-python",
   "name": "python",
   "nbconvert_exporter": "python",
   "pygments_lexer": "ipython3",
   "version": "3.7.4"
  }
 },
 "nbformat": 4,
 "nbformat_minor": 4
}
