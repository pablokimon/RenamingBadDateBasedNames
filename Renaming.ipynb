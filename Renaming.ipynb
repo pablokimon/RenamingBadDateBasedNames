{
 "cells": [
  {
   "cell_type": "markdown",
   "metadata": {},
   "source": [
    "source of renaming loop:\n",
    "    https://www.guru99.com/python-rename-file.html"
   ]
  },
  {
   "cell_type": "code",
   "execution_count": 1,
   "metadata": {},
   "outputs": [],
   "source": [
    "import os\n",
    "from os import path\n",
    "import calendar\n",
    "import re\n",
    "import datetime as dt"
   ]
  },
  {
   "cell_type": "code",
   "execution_count": 2,
   "metadata": {},
   "outputs": [
    {
     "data": {
      "text/plain": [
       "'00'"
      ]
     },
     "execution_count": 2,
     "metadata": {},
     "output_type": "execute_result"
    }
   ],
   "source": [
    "#make dictionary of months, first three letters and number\n",
    "months_dict=dict((v.lower(),str(k).zfill(2)) for k,v in enumerate(calendar.month_abbr))\n",
    "months_dict.pop('')"
   ]
  },
  {
   "cell_type": "code",
   "execution_count": 3,
   "metadata": {},
   "outputs": [
    {
     "data": {
      "text/plain": [
       "{'jan': '01',\n",
       " 'feb': '02',\n",
       " 'mar': '03',\n",
       " 'apr': '04',\n",
       " 'may': '05',\n",
       " 'jun': '06',\n",
       " 'jul': '07',\n",
       " 'aug': '08',\n",
       " 'sep': '09',\n",
       " 'oct': '10',\n",
       " 'nov': '11',\n",
       " 'dec': '12'}"
      ]
     },
     "execution_count": 3,
     "metadata": {},
     "output_type": "execute_result"
    }
   ],
   "source": [
    "months_dict"
   ]
  },
  {
   "cell_type": "code",
   "execution_count": 4,
   "metadata": {},
   "outputs": [],
   "source": [
    "#make a dict of week days, first three letters and full word\n",
    "keys = [day.lower() for day in list(calendar.day_abbr)]\n",
    "values = list(calendar.day_name)\n",
    "weekdays_dict = dict(zip(keys, values))"
   ]
  },
  {
   "cell_type": "code",
   "execution_count": 4,
   "metadata": {},
   "outputs": [
    {
     "data": {
      "text/plain": [
       "{'mon': 'Monday',\n",
       " 'tue': 'Tuesday',\n",
       " 'wed': 'Wednesday',\n",
       " 'thu': 'Thursday',\n",
       " 'fri': 'Friday',\n",
       " 'sat': 'Saturday',\n",
       " 'sun': 'Sunday'}"
      ]
     },
     "execution_count": 4,
     "metadata": {},
     "output_type": "execute_result"
    }
   ],
   "source": [
    "weekdays_dict"
   ]
  },
  {
   "cell_type": "code",
   "execution_count": 5,
   "metadata": {},
   "outputs": [],
   "source": [
    "#make a dict of weekdays, numbering according to datetime object and first three letters\n",
    "keys= list(range(0,8))\n",
    "values = [day.lower() for day in list(calendar.day_abbr)]\n",
    "weekdaysnumbered_dict = dict(zip(keys, values))"
   ]
  },
  {
   "cell_type": "code",
   "execution_count": 5,
   "metadata": {},
   "outputs": [
    {
     "data": {
      "text/plain": [
       "{0: 'mon', 1: 'tue', 2: 'wed', 3: 'thu', 4: 'fri', 5: 'sat', 6: 'sun'}"
      ]
     },
     "execution_count": 5,
     "metadata": {},
     "output_type": "execute_result"
    }
   ],
   "source": [
    "weekdaysnumbered_dict"
   ]
  },
  {
   "cell_type": "code",
   "execution_count": 6,
   "metadata": {},
   "outputs": [],
   "source": [
    "#make lists of years, all possible days in a month and months\n",
    "years = ['2014','2015','2016','2017','2018','2019']\n",
    "days = [str(r).zfill(2) for r in range(1,32)]\n",
    "months = ['april',\n",
    " 'august',\n",
    " 'december',\n",
    " 'february',\n",
    " 'january',\n",
    " 'july',\n",
    " 'june',\n",
    " 'march',\n",
    " 'may',\n",
    " 'november',\n",
    " 'october',\n",
    " 'september'] \n"
   ]
  },
  {
   "cell_type": "code",
   "execution_count": 7,
   "metadata": {},
   "outputs": [
    {
     "data": {
      "text/plain": [
       "['01',\n",
       " '02',\n",
       " '03',\n",
       " '04',\n",
       " '05',\n",
       " '06',\n",
       " '07',\n",
       " '08',\n",
       " '09',\n",
       " '10',\n",
       " '11',\n",
       " '12',\n",
       " '13',\n",
       " '14',\n",
       " '15',\n",
       " '16',\n",
       " '17',\n",
       " '18',\n",
       " '19',\n",
       " '20',\n",
       " '21',\n",
       " '22',\n",
       " '23',\n",
       " '24',\n",
       " '25',\n",
       " '26',\n",
       " '27',\n",
       " '28',\n",
       " '29',\n",
       " '30',\n",
       " '31']"
      ]
     },
     "execution_count": 7,
     "metadata": {},
     "output_type": "execute_result"
    }
   ],
   "source": [
    "days"
   ]
  },
  {
   "cell_type": "code",
   "execution_count": 8,
   "metadata": {},
   "outputs": [],
   "source": [
    "def fixdirectory(dir):\n",
    "    for oldname in next(os.walk(dir))[1]:\n",
    "        new_dir_name = ''\n",
    "        #print (type(directories))\n",
    "        directory = re.sub(\",\", \" \",oldname)\n",
    "        match = re.search(r'(\\d+-\\d+-\\d+)',directory)\n",
    "        if match:\n",
    "            new_dir_name=addweekday(oldname,directory)\n",
    "        else:\n",
    "            print(directory)\n",
    "            new_dir_name=fixfolder(oldname,directory)\n",
    "        os.rename(dir+os.sep+oldname,dir+os.sep+new_dir_name)\n",
    "        #print (\"file renamed\")"
   ]
  },
  {
   "cell_type": "code",
   "execution_count": 9,
   "metadata": {},
   "outputs": [],
   "source": [
    "def fixfolder(oldname,directory):\n",
    "    directory = directory.split()\n",
    "    year,month,day,weekday=[\"\"]*4\n",
    "    for part in directory:\n",
    "        #print (part)\n",
    "        piece=part.lower()\n",
    "        if piece in years:\n",
    "            year=piece\n",
    "        if piece[:3] in months_dict.keys():\n",
    "            month=(months_dict[piece[:3]])\n",
    "            #print(int(month))\n",
    "        if piece.zfill(2) in days:\n",
    "            day=piece.zfill(2)\n",
    "            #print(int(day))\n",
    "        #weekday=weekdaysnumbered_dict[dt.datetime(year,int(month),int(day)).weekday()].capitalize()\n",
    "    if year == \"\" or month == \"\" or day == \"\":\n",
    "        new_dir_name = manualrename(oldname,directory)\n",
    "    else:\n",
    "        try:\n",
    "            weekday = dt.datetime.strptime(month+ \" \" + day + \" \" + year,\"%m %d %Y\").strftime(\"%A\")[:3]\n",
    "            new_dir_name=year+'-'+month+'-'+day+'-'+ weekday\n",
    "        except ValueError:\n",
    "            new_dir_name = manualrename(oldname,directory)\n",
    "    print (\"old name:\",oldname,\"new name:\",new_dir_name)\n",
    "    return new_dir_name"
   ]
  },
  {
   "cell_type": "code",
   "execution_count": 10,
   "metadata": {},
   "outputs": [],
   "source": [
    "def manualrename(oldname,directory):\n",
    "    new_dir_name = input(\"Please manually enter the new name for %s\"%oldname)\n",
    "    if new_dir_name ==\"\": \n",
    "        new_dir_name = oldname\n",
    "    else:\n",
    "        new_dir_name=addweekday(new_dir_name,directory)\n",
    "    return new_dir_name"
   ]
  },
  {
   "cell_type": "code",
   "execution_count": 11,
   "metadata": {},
   "outputs": [],
   "source": [
    "def addweekday(oldname,directory):\n",
    "    year,month,day=oldname.split('-',3)\n",
    "    #print (year,month,day)\n",
    "    try:\n",
    "        weekday=weekdaysnumbered_dict[dt.datetime(int(year),int(month),int(day)).weekday()].capitalize()\n",
    "        new_dir_name=year+'-'+month+'-'+day+'-'+ weekday\n",
    "        #print (\"old name:\",oldname,\"new name:\",new_dir_name)\n",
    "        return new_dir_name\n",
    "    except ValueError:\n",
    "        print ('day is out of range for month')\n",
    "        new_dir_name = manualrename(oldname)"
   ]
  },
  {
   "cell_type": "code",
   "execution_count": null,
   "metadata": {},
   "outputs": [],
   "source": [
    "fixdirectory('2015')"
   ]
  }
 ],
 "metadata": {
  "kernelspec": {
   "display_name": "Python 3",
   "language": "python",
   "name": "python3"
  },
  "language_info": {
   "codemirror_mode": {
    "name": "ipython",
    "version": 3
   },
   "file_extension": ".py",
   "mimetype": "text/x-python",
   "name": "python",
   "nbconvert_exporter": "python",
   "pygments_lexer": "ipython3",
   "version": "3.6.8"
  }
 },
 "nbformat": 4,
 "nbformat_minor": 4
}
